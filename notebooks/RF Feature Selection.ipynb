{
 "cells": [
  {
   "cell_type": "code",
   "execution_count": 1,
   "metadata": {
    "collapsed": true
   },
   "outputs": [],
   "source": [
    "from load_data import load_data_XY\n",
    "import numpy as np\n",
    "from sklearn.model_selection import train_test_split\n",
    "from sklearn.metrics import r2_score, mean_squared_error\n",
    "import matplotlib.pyplot as plt\n",
    "import time\n",
    "%matplotlib notebook \n",
    "from sklearn.model_selection import GridSearchCV\n"
   ]
  },
  {
   "cell_type": "code",
   "execution_count": 2,
   "metadata": {},
   "outputs": [
    {
     "name": "stderr",
     "output_type": "stream",
     "text": [
      "C:\\Users\\sky\\Anaconda3\\lib\\site-packages\\sklearn\\utils\\validation.py:395: DeprecationWarning: Passing 1d arrays as data is deprecated in 0.17 and will raise ValueError in 0.19. Reshape your data either using X.reshape(-1, 1) if your data has a single feature or X.reshape(1, -1) if it contains a single sample.\n",
      "  DeprecationWarning)\n"
     ]
    }
   ],
   "source": [
    "X, y, labels, names = load_data_XY()"
   ]
  },
  {
   "cell_type": "code",
   "execution_count": 3,
   "metadata": {
    "collapsed": true
   },
   "outputs": [],
   "source": [
    "X_train, X_test, y_train, y_test = train_test_split(X, y, train_size = 0.8)"
   ]
  },
  {
   "cell_type": "code",
   "execution_count": 4,
   "metadata": {
    "collapsed": true
   },
   "outputs": [],
   "source": [
    "from sklearn.linear_model import LassoCV, ElasticNetCV, LassoLarsIC"
   ]
  },
  {
   "cell_type": "code",
   "execution_count": 12,
   "metadata": {},
   "outputs": [
    {
     "name": "stderr",
     "output_type": "stream",
     "text": [
      "........................................................................................................................................................................................................................................................................................................................................................................................................................................................................................................................................................................................................................................................................................................................................................................................................................................................................................................................................................................................................................................[Parallel(n_jobs=1)]: Done  10 out of  10 | elapsed:  3.7min finished\n"
     ]
    }
   ],
   "source": [
    "lasso = LassoCV(cv = 10, verbose = 1).fit(X, y)"
   ]
  },
  {
   "cell_type": "code",
   "execution_count": 13,
   "metadata": {},
   "outputs": [
    {
     "data": {
      "text/plain": [
       "0.036573321312956562"
      ]
     },
     "execution_count": 13,
     "metadata": {},
     "output_type": "execute_result"
    }
   ],
   "source": [
    "lasso.alpha_"
   ]
  },
  {
   "cell_type": "code",
   "execution_count": 5,
   "metadata": {
    "collapsed": true
   },
   "outputs": [],
   "source": [
    "from sklearn.linear_model import Lasso, ElasticNet"
   ]
  },
  {
   "cell_type": "code",
   "execution_count": 20,
   "metadata": {},
   "outputs": [
    {
     "name": "stdout",
     "output_type": "stream",
     "text": [
      "0.398522731159\n"
     ]
    }
   ],
   "source": [
    "lasso_pred = Lasso(alpha = lasso.alpha_).fit(X_train, y_train).predict(X_test)\n",
    "print(r2_score(y_test, lasso_pred))"
   ]
  },
  {
   "cell_type": "code",
   "execution_count": 26,
   "metadata": {
    "collapsed": true
   },
   "outputs": [],
   "source": [
    "from sklearn.model_selection import GridSearchCV"
   ]
  },
  {
   "cell_type": "code",
   "execution_count": 35,
   "metadata": {},
   "outputs": [
    {
     "name": "stdout",
     "output_type": "stream",
     "text": [
      "Fitting 10 folds for each of 100 candidates, totalling 1000 fits\n"
     ]
    },
    {
     "name": "stderr",
     "output_type": "stream",
     "text": [
      "[Parallel(n_jobs=-1)]: Done  34 tasks      | elapsed:   14.8s\n",
      "[Parallel(n_jobs=-1)]: Done 184 tasks      | elapsed:  1.2min\n",
      "[Parallel(n_jobs=-1)]: Done 434 tasks      | elapsed:  2.9min\n",
      "[Parallel(n_jobs=-1)]: Done 784 tasks      | elapsed:  5.2min\n",
      "[Parallel(n_jobs=-1)]: Done 1000 out of 1000 | elapsed:  6.6min finished\n"
     ]
    },
    {
     "data": {
      "text/plain": [
       "GridSearchCV(cv=10, error_score='raise',\n",
       "       estimator=ElasticNet(alpha=1.0, copy_X=True, fit_intercept=True, l1_ratio=0.5,\n",
       "      max_iter=1000, normalize=False, positive=False, precompute=False,\n",
       "      random_state=None, selection='cyclic', tol=0.0001, warm_start=False),\n",
       "       fit_params={}, iid=True, n_jobs=-1,\n",
       "       param_grid=[{'alpha': [0.036573321312956562], 'l1_ratio': array([ 0.9    ,  0.90101, ...,  0.99899,  1.     ])}],\n",
       "       pre_dispatch='2*n_jobs', refit=True, return_train_score=True,\n",
       "       scoring=None, verbose=1)"
      ]
     },
     "execution_count": 35,
     "metadata": {},
     "output_type": "execute_result"
    }
   ],
   "source": [
    "params = [{\n",
    "    'alpha': [lasso.alpha_],\n",
    "    'l1_ratio':np.linspace(0.0, 1,101)\n",
    "}]\n",
    "reg = GridSearchCV(ElasticNet(), params, cv=10, n_jobs = -1, verbose = 1)\n",
    "reg.fit(X_train, y_train)"
   ]
  },
  {
   "cell_type": "code",
   "execution_count": 36,
   "metadata": {
    "collapsed": true
   },
   "outputs": [],
   "source": [
    "best_params = reg.best_params_\n",
    "means = reg.cv_results_['mean_test_score']\n",
    "stds = reg.cv_results_['std_test_score']\n",
    "sort_means = means\n",
    "sort_stds = stds\n",
    "sort_params = reg.cv_results_['params']"
   ]
  },
  {
   "cell_type": "code",
   "execution_count": 37,
   "metadata": {
    "scrolled": true
   },
   "outputs": [
    {
     "name": "stdout",
     "output_type": "stream",
     "text": [
      "0.37691355493894840301 (+/-0.18703640829094153597) for {'alpha': 0.036573321312956562, 'l1_ratio': 1.0}\n",
      "0.37689961473102778777 (+/-0.18704471920515722272) for {'alpha': 0.036573321312956562, 'l1_ratio': 0.99898989898989898}\n",
      "0.37689056939226278642 (+/-0.18705000808843449955) for {'alpha': 0.036573321312956562, 'l1_ratio': 0.99797979797979797}\n",
      "0.37688167844226810876 (+/-0.18705587498407469371) for {'alpha': 0.036573321312956562, 'l1_ratio': 0.99696969696969695}\n",
      "0.37687191929543956137 (+/-0.18706266804448637431) for {'alpha': 0.036573321312956562, 'l1_ratio': 0.99595959595959593}\n",
      "0.37685874562987464742 (+/-0.18706479712692078432) for {'alpha': 0.036573321312956562, 'l1_ratio': 0.99494949494949492}\n",
      "0.37684410860283601430 (+/-0.18706273003526419085) for {'alpha': 0.036573321312956562, 'l1_ratio': 0.9939393939393939}\n",
      "0.37683200701947744404 (+/-0.18705570012859631945) for {'alpha': 0.036573321312956562, 'l1_ratio': 0.99292929292929288}\n",
      "0.37681939130991426445 (+/-0.18704797659010150013) for {'alpha': 0.036573321312956562, 'l1_ratio': 0.99191919191919187}\n",
      "0.37680315398752262102 (+/-0.18704508629504199013) for {'alpha': 0.036573321312956562, 'l1_ratio': 0.99090909090909096}\n",
      "0.37678576053973827920 (+/-0.18704198741787983473) for {'alpha': 0.036573321312956562, 'l1_ratio': 0.98989898989898994}\n",
      "0.37676822524139425008 (+/-0.18703940196835860954) for {'alpha': 0.036573321312956562, 'l1_ratio': 0.98888888888888893}\n",
      "0.37675299938820472345 (+/-0.18703913385533252334) for {'alpha': 0.036573321312956562, 'l1_ratio': 0.98787878787878791}\n",
      "0.37673517665743727623 (+/-0.18703661449578307119) for {'alpha': 0.036573321312956562, 'l1_ratio': 0.9868686868686869}\n",
      "0.37671690383306927208 (+/-0.18703501811561076829) for {'alpha': 0.036573321312956562, 'l1_ratio': 0.98585858585858588}\n",
      "0.37670351549310227002 (+/-0.18703334301715002219) for {'alpha': 0.036573321312956562, 'l1_ratio': 0.98484848484848486}\n",
      "0.37669306118209794354 (+/-0.18703194732616723606) for {'alpha': 0.036573321312956562, 'l1_ratio': 0.98383838383838385}\n",
      "0.37668289862040810201 (+/-0.18701998093992536210) for {'alpha': 0.036573321312956562, 'l1_ratio': 0.98282828282828283}\n",
      "0.37667473253021077628 (+/-0.18700560268013316501) for {'alpha': 0.036573321312956562, 'l1_ratio': 0.98181818181818181}\n",
      "0.37666682482116853325 (+/-0.18699274440784988127) for {'alpha': 0.036573321312956562, 'l1_ratio': 0.9808080808080808}\n",
      "0.37665229518051707158 (+/-0.18697814143050839331) for {'alpha': 0.036573321312956562, 'l1_ratio': 0.97979797979797978}\n",
      "0.37663976862395054379 (+/-0.18696110456972833691) for {'alpha': 0.036573321312956562, 'l1_ratio': 0.97878787878787876}\n",
      "0.37662704531841301181 (+/-0.18694445409338555919) for {'alpha': 0.036573321312956562, 'l1_ratio': 0.97777777777777775}\n",
      "0.37661419402878920648 (+/-0.18692824105328462170) for {'alpha': 0.036573321312956562, 'l1_ratio': 0.97676767676767673}\n",
      "0.37660221174288932566 (+/-0.18691395912212088737) for {'alpha': 0.036573321312956562, 'l1_ratio': 0.97575757575757582}\n",
      "0.37659379070474235940 (+/-0.18690405094819984022) for {'alpha': 0.036573321312956562, 'l1_ratio': 0.9747474747474747}\n",
      "0.37658263108432188382 (+/-0.18689194588116364582) for {'alpha': 0.036573321312956562, 'l1_ratio': 0.97373737373737379}\n",
      "0.37656802016372808994 (+/-0.18687866976592859558) for {'alpha': 0.036573321312956562, 'l1_ratio': 0.97272727272727277}\n",
      "0.37655368550515128101 (+/-0.18686089685722620524) for {'alpha': 0.036573321312956562, 'l1_ratio': 0.97171717171717176}\n",
      "0.37653992037347527866 (+/-0.18684604409412383652) for {'alpha': 0.036573321312956562, 'l1_ratio': 0.97070707070707074}\n",
      "0.37652591149681885474 (+/-0.18683372631103059569) for {'alpha': 0.036573321312956562, 'l1_ratio': 0.96969696969696972}\n",
      "0.37651209286443043656 (+/-0.18682210552917447033) for {'alpha': 0.036573321312956562, 'l1_ratio': 0.96868686868686871}\n",
      "0.37649144293032432707 (+/-0.18682100743240723228) for {'alpha': 0.036573321312956562, 'l1_ratio': 0.96767676767676769}\n",
      "0.37646460612263132894 (+/-0.18682595283816946785) for {'alpha': 0.036573321312956562, 'l1_ratio': 0.96666666666666667}\n",
      "0.37643348074694937822 (+/-0.18682715567854063510) for {'alpha': 0.036573321312956562, 'l1_ratio': 0.96565656565656566}\n",
      "0.37640370791727467692 (+/-0.18682567457275983669) for {'alpha': 0.036573321312956562, 'l1_ratio': 0.96464646464646464}\n",
      "0.37637697780549556059 (+/-0.18681661517957651175) for {'alpha': 0.036573321312956562, 'l1_ratio': 0.96363636363636362}\n",
      "0.37635266502257008758 (+/-0.18680589798897259679) for {'alpha': 0.036573321312956562, 'l1_ratio': 0.96262626262626261}\n",
      "0.37632789211302936083 (+/-0.18677699470428285600) for {'alpha': 0.036573321312956562, 'l1_ratio': 0.96161616161616159}\n",
      "0.37630314377406248738 (+/-0.18674571286806945780) for {'alpha': 0.036573321312956562, 'l1_ratio': 0.96060606060606057}\n",
      "0.37627901749587366886 (+/-0.18671455816413995432) for {'alpha': 0.036573321312956562, 'l1_ratio': 0.95959595959595956}\n",
      "0.37625742908968212719 (+/-0.18668308315745468784) for {'alpha': 0.036573321312956562, 'l1_ratio': 0.95858585858585865}\n",
      "0.37623671139633962923 (+/-0.18665732152053618464) for {'alpha': 0.036573321312956562, 'l1_ratio': 0.95757575757575764}\n",
      "0.37621360422298033566 (+/-0.18663185060989723185) for {'alpha': 0.036573321312956562, 'l1_ratio': 0.95656565656565662}\n",
      "0.37619264450753048257 (+/-0.18660141897061097160) for {'alpha': 0.036573321312956562, 'l1_ratio': 0.9555555555555556}\n",
      "0.37617604006911875558 (+/-0.18655880872085245370) for {'alpha': 0.036573321312956562, 'l1_ratio': 0.95454545454545459}\n",
      "0.37615937436971907948 (+/-0.18651682239679853725) for {'alpha': 0.036573321312956562, 'l1_ratio': 0.95353535353535357}\n",
      "0.37614247801947525707 (+/-0.18647519035874760007) for {'alpha': 0.036573321312956562, 'l1_ratio': 0.95252525252525255}\n",
      "0.37612414498214979952 (+/-0.18643288553915551842) for {'alpha': 0.036573321312956562, 'l1_ratio': 0.95151515151515154}\n",
      "0.37610496333427151372 (+/-0.18639031428730948314) for {'alpha': 0.036573321312956562, 'l1_ratio': 0.95050505050505052}\n",
      "0.37608576546574906674 (+/-0.18634926579415045378) for {'alpha': 0.036573321312956562, 'l1_ratio': 0.9494949494949495}\n",
      "0.37606706703676323622 (+/-0.18630573632692135067) for {'alpha': 0.036573321312956562, 'l1_ratio': 0.94848484848484849}\n",
      "0.37604724146678858432 (+/-0.18626060840889180348) for {'alpha': 0.036573321312956562, 'l1_ratio': 0.94747474747474747}\n",
      "0.37602822065477015112 (+/-0.18621786080767099847) for {'alpha': 0.036573321312956562, 'l1_ratio': 0.94646464646464645}\n",
      "0.37600896968653707564 (+/-0.18617535225202164195) for {'alpha': 0.036573321312956562, 'l1_ratio': 0.94545454545454544}\n",
      "0.37599079262967927129 (+/-0.18613356002451214577) for {'alpha': 0.036573321312956562, 'l1_ratio': 0.94444444444444442}\n",
      "0.37597389471569631070 (+/-0.18609236673271858931) for {'alpha': 0.036573321312956562, 'l1_ratio': 0.9434343434343434}\n",
      "0.37595812496933311841 (+/-0.18605345921624236172) for {'alpha': 0.036573321312956562, 'l1_ratio': 0.94242424242424239}\n",
      "0.37594078475713260667 (+/-0.18601286474321407360) for {'alpha': 0.036573321312956562, 'l1_ratio': 0.94141414141414148}\n",
      "0.37592282629014223128 (+/-0.18597166227272521333) for {'alpha': 0.036573321312956562, 'l1_ratio': 0.94040404040404046}\n",
      "0.37590630230638832909 (+/-0.18593045376622241438) for {'alpha': 0.036573321312956562, 'l1_ratio': 0.93939393939393945}\n",
      "0.37589142548507464836 (+/-0.18589180455946663351) for {'alpha': 0.036573321312956562, 'l1_ratio': 0.93838383838383843}\n",
      "0.37587631440128882465 (+/-0.18585317483080943113) for {'alpha': 0.036573321312956562, 'l1_ratio': 0.93737373737373741}\n",
      "0.37586106066114743918 (+/-0.18581467364815107413) for {'alpha': 0.036573321312956562, 'l1_ratio': 0.9363636363636364}\n",
      "0.37584572131100235648 (+/-0.18577512601454315710) for {'alpha': 0.036573321312956562, 'l1_ratio': 0.93535353535353538}\n",
      "0.37583160108153168544 (+/-0.18573624985902659201) for {'alpha': 0.036573321312956562, 'l1_ratio': 0.93434343434343436}\n",
      "0.37581745885584444400 (+/-0.18569647338570102746) for {'alpha': 0.036573321312956562, 'l1_ratio': 0.93333333333333335}\n",
      "0.37580426736217259487 (+/-0.18565889771550075915) for {'alpha': 0.036573321312956562, 'l1_ratio': 0.93232323232323233}\n",
      "0.37579159261591166263 (+/-0.18562047981739515645) for {'alpha': 0.036573321312956562, 'l1_ratio': 0.93131313131313131}\n"
     ]
    },
    {
     "name": "stdout",
     "output_type": "stream",
     "text": [
      "0.37577858754623044701 (+/-0.18558069701489174341) for {'alpha': 0.036573321312956562, 'l1_ratio': 0.9303030303030303}\n",
      "0.37576758660994213912 (+/-0.18553501640450933974) for {'alpha': 0.036573321312956562, 'l1_ratio': 0.92929292929292928}\n",
      "0.37575119898554520947 (+/-0.18549875738830357008) for {'alpha': 0.036573321312956562, 'l1_ratio': 0.92828282828282827}\n",
      "0.37572933184869461432 (+/-0.18547083939731598412) for {'alpha': 0.036573321312956562, 'l1_ratio': 0.92727272727272725}\n",
      "0.37570551406997976240 (+/-0.18543726325895065754) for {'alpha': 0.036573321312956562, 'l1_ratio': 0.92626262626262623}\n",
      "0.37568388086544313165 (+/-0.18540798794833396324) for {'alpha': 0.036573321312956562, 'l1_ratio': 0.92525252525252522}\n",
      "0.37566093883169049406 (+/-0.18538157788648110258) for {'alpha': 0.036573321312956562, 'l1_ratio': 0.92424242424242431}\n",
      "0.37563877059990224971 (+/-0.18535597365841430251) for {'alpha': 0.036573321312956562, 'l1_ratio': 0.92323232323232329}\n",
      "0.37561632494265068116 (+/-0.18533344868521559046) for {'alpha': 0.036573321312956562, 'l1_ratio': 0.92222222222222228}\n",
      "0.37559319413553210465 (+/-0.18531108448020006119) for {'alpha': 0.036573321312956562, 'l1_ratio': 0.92121212121212126}\n",
      "0.37557254729522859815 (+/-0.18528296186042958471) for {'alpha': 0.036573321312956562, 'l1_ratio': 0.92020202020202024}\n",
      "0.37555000666236915130 (+/-0.18524935118037635928) for {'alpha': 0.036573321312956562, 'l1_ratio': 0.91919191919191923}\n",
      "0.37552739725225425804 (+/-0.18521719170556530387) for {'alpha': 0.036573321312956562, 'l1_ratio': 0.91818181818181821}\n",
      "0.37550524221322556517 (+/-0.18518536331744236967) for {'alpha': 0.036573321312956562, 'l1_ratio': 0.91717171717171719}\n",
      "0.37548295923491542547 (+/-0.18515558016516184270) for {'alpha': 0.036573321312956562, 'l1_ratio': 0.91616161616161618}\n",
      "0.37545964959954841733 (+/-0.18512425535173956948) for {'alpha': 0.036573321312956562, 'l1_ratio': 0.91515151515151516}\n",
      "0.37543558502045332181 (+/-0.18509225551006722177) for {'alpha': 0.036573321312956562, 'l1_ratio': 0.91414141414141414}\n",
      "0.37540378450972838875 (+/-0.18505807167655985435) for {'alpha': 0.036573321312956562, 'l1_ratio': 0.91313131313131313}\n",
      "0.37537318762849480880 (+/-0.18502375201316625941) for {'alpha': 0.036573321312956562, 'l1_ratio': 0.91212121212121211}\n",
      "0.37534240810182983861 (+/-0.18498987495297128381) for {'alpha': 0.036573321312956562, 'l1_ratio': 0.91111111111111109}\n",
      "0.37531226231684727823 (+/-0.18495858200647272152) for {'alpha': 0.036573321312956562, 'l1_ratio': 0.91010101010101008}\n",
      "0.37528228171367955524 (+/-0.18492605708714032753) for {'alpha': 0.036573321312956562, 'l1_ratio': 0.90909090909090906}\n",
      "0.37525246552770924469 (+/-0.18489347933900066034) for {'alpha': 0.036573321312956562, 'l1_ratio': 0.90808080808080816}\n",
      "0.37522225641898382387 (+/-0.18486381826406683704) for {'alpha': 0.036573321312956562, 'l1_ratio': 0.90707070707070714}\n",
      "0.37519216143546479936 (+/-0.18483556428193104182) for {'alpha': 0.036573321312956562, 'l1_ratio': 0.90606060606060612}\n",
      "0.37516427800860407960 (+/-0.18481182129983986240) for {'alpha': 0.036573321312956562, 'l1_ratio': 0.90505050505050511}\n",
      "0.37513711003175925773 (+/-0.18478937526703928529) for {'alpha': 0.036573321312956562, 'l1_ratio': 0.90404040404040409}\n",
      "0.37510686893236888650 (+/-0.18477223166359954543) for {'alpha': 0.036573321312956562, 'l1_ratio': 0.90303030303030307}\n",
      "0.37507690872162324780 (+/-0.18475965720648970803) for {'alpha': 0.036573321312956562, 'l1_ratio': 0.90202020202020206}\n",
      "0.37504645952083298655 (+/-0.18475024572195533623) for {'alpha': 0.036573321312956562, 'l1_ratio': 0.90101010101010104}\n",
      "0.37501730415529005436 (+/-0.18474114899647878230) for {'alpha': 0.036573321312956562, 'l1_ratio': 0.90000000000000002}\n"
     ]
    }
   ],
   "source": [
    "sort_means, sort_stds, sort_params = zip(*sorted(zip(sort_means, sort_stds, sort_params), key = lambda x:x[0], reverse = True))\n",
    "\n",
    "for mean, std, params in zip(sort_means, sort_stds, sort_params):\n",
    "        print(\"%0.20f (+/-%0.20f) for %r\" % (mean, std * 2, params), flush = True)"
   ]
  },
  {
   "cell_type": "code",
   "execution_count": 6,
   "metadata": {
    "collapsed": true
   },
   "outputs": [],
   "source": [
    "from sklearn.pipeline import Pipeline\n",
    "from sklearn.feature_selection import SelectFromModel\n"
   ]
  },
  {
   "cell_type": "code",
   "execution_count": 40,
   "metadata": {
    "collapsed": true
   },
   "outputs": [],
   "source": [
    "enet_cv = ElasticNetCV(cv = 10).fit(X, y)"
   ]
  },
  {
   "cell_type": "code",
   "execution_count": 41,
   "metadata": {},
   "outputs": [
    {
     "data": {
      "text/plain": [
       "0.073146642625913139"
      ]
     },
     "execution_count": 41,
     "metadata": {},
     "output_type": "execute_result"
    }
   ],
   "source": [
    "enet_cv.alpha_"
   ]
  },
  {
   "cell_type": "code",
   "execution_count": 42,
   "metadata": {},
   "outputs": [
    {
     "data": {
      "text/plain": [
       "0.5"
      ]
     },
     "execution_count": 42,
     "metadata": {},
     "output_type": "execute_result"
    }
   ],
   "source": [
    "enet_cv.l1_ratio_"
   ]
  },
  {
   "cell_type": "code",
   "execution_count": 9,
   "metadata": {
    "collapsed": true
   },
   "outputs": [],
   "source": [
    "lasso_alpha_ = 0.036573321312956562\n",
    "enet_cv_alpha_ = 0.073146642625913139"
   ]
  },
  {
   "cell_type": "code",
   "execution_count": 17,
   "metadata": {
    "collapsed": true
   },
   "outputs": [],
   "source": [
    "enet_first = Pipeline([\n",
    "    ('feature_selection', SelectFromModel(ElasticNet(alpha = lasso_alpha_, l1_ratio = 1.0))),\n",
    "    ('regression', ElasticNet(alpha = lasso_alpha_, l1_ratio = 1.0))\n",
    "])"
   ]
  },
  {
   "cell_type": "code",
   "execution_count": 18,
   "metadata": {},
   "outputs": [
    {
     "data": {
      "text/plain": [
       "Pipeline(steps=[('feature_selection', SelectFromModel(estimator=ElasticNet(alpha=0.03657332131295656, copy_X=True, fit_intercept=True,\n",
       "      l1_ratio=1.0, max_iter=1000, normalize=False, positive=False,\n",
       "      precompute=False, random_state=None, selection='cyclic', tol=0.0001,\n",
       "      warm_start=False),\n",
       "      ...      precompute=False, random_state=None, selection='cyclic', tol=0.0001,\n",
       "      warm_start=False))])"
      ]
     },
     "execution_count": 18,
     "metadata": {},
     "output_type": "execute_result"
    }
   ],
   "source": [
    "enet_first.fit(X, y)"
   ]
  },
  {
   "cell_type": "code",
   "execution_count": 13,
   "metadata": {
    "collapsed": true
   },
   "outputs": [],
   "source": [
    "enetf_inds = enet_first.steps[0][1].get_support(indices = True)\n"
   ]
  },
  {
   "cell_type": "code",
   "execution_count": 14,
   "metadata": {},
   "outputs": [
    {
     "data": {
      "text/plain": [
       "array([  14,   30,   44,  233,  312,  665,  786,  885, 1343, 1382, 1652,\n",
       "       1843, 1870, 1891, 1941, 2029, 2106, 2140, 2242, 2326, 2510, 2532,\n",
       "       2588, 2626, 2671, 2942, 3048, 3160, 3351, 3395, 3448, 3904, 3918,\n",
       "       3998, 4012, 4058, 4063, 4210, 4241, 4275, 4294, 4539, 5223, 5540,\n",
       "       5580, 5583, 5584, 5590, 5598, 5601, 5607, 5615, 5623], dtype=int64)"
      ]
     },
     "execution_count": 14,
     "metadata": {},
     "output_type": "execute_result"
    }
   ],
   "source": [
    "enetf_inds"
   ]
  },
  {
   "cell_type": "code",
   "execution_count": 15,
   "metadata": {},
   "outputs": [
    {
     "data": {
      "text/plain": [
       "array(['Pos4_M', 'Pos6_I', 'Pos6_3_R', 'Pos30_A', 'Pos49_E', 'Pos134_A',\n",
       "       'Pos147_-', 'Pos151_K', 'Pos198_T', 'Pos209_T', 'Pos271_V',\n",
       "       'Pos293_E', 'Pos297_T', 'Pos300_N', 'Pos305_K', 'Pos319_A',\n",
       "       'Pos325_D', 'Pos330_H', 'Pos340_N', 'Pos347_E', 'Pos364_S',\n",
       "       'Pos369_L', 'Pos379_G', 'Pos389_G', 'Pos393_S', 'Pos429_E',\n",
       "       'Pos446_K', 'Pos461_N', 'Pos500_R', 'Pos507_E', 'Pos518_V',\n",
       "       'Pos619_Q', 'Pos620_T', 'Pos630_E', 'Pos633_K', 'Pos640_N',\n",
       "       'Pos640_D', 'Pos659_D', 'Pos665_K', 'Pos671_N', 'Pos674_D',\n",
       "       'Pos723_N', 'Pos815_L', 'N137', 'N289', 'N301', 'N332', 'N354_1',\n",
       "       'N392', 'N397', 'N403', 'N411', 'N462'], dtype=object)"
      ]
     },
     "execution_count": 15,
     "metadata": {},
     "output_type": "execute_result"
    }
   ],
   "source": [
    "labels[enetf_inds]"
   ]
  },
  {
   "cell_type": "code",
   "execution_count": 20,
   "metadata": {
    "collapsed": true
   },
   "outputs": [],
   "source": [
    "enet_cv_line = Pipeline([\n",
    "    ('feature_selection', SelectFromModel(ElasticNet(alpha = enet_cv_alpha_, l1_ratio = 0.5))),\n",
    "    ('regression', ElasticNet(alpha = enet_cv_alpha_, l1_ratio = 0.5))\n",
    "])"
   ]
  },
  {
   "cell_type": "code",
   "execution_count": 21,
   "metadata": {},
   "outputs": [
    {
     "data": {
      "text/plain": [
       "Pipeline(steps=[('feature_selection', SelectFromModel(estimator=ElasticNet(alpha=0.07314664262591314, copy_X=True, fit_intercept=True,\n",
       "      l1_ratio=0.5, max_iter=1000, normalize=False, positive=False,\n",
       "      precompute=False, random_state=None, selection='cyclic', tol=0.0001,\n",
       "      warm_start=False),\n",
       "      ...      precompute=False, random_state=None, selection='cyclic', tol=0.0001,\n",
       "      warm_start=False))])"
      ]
     },
     "execution_count": 21,
     "metadata": {},
     "output_type": "execute_result"
    }
   ],
   "source": [
    "enet_cv_line.fit(X, y)"
   ]
  },
  {
   "cell_type": "code",
   "execution_count": 25,
   "metadata": {
    "collapsed": true
   },
   "outputs": [],
   "source": [
    "enetcv_inds = enet_cv_line.steps[0][1].get_support(indices = True)"
   ]
  },
  {
   "cell_type": "code",
   "execution_count": 37,
   "metadata": {},
   "outputs": [
    {
     "data": {
      "text/plain": [
       "array(['Pos4_M', 'Pos6_I', 'Pos6_3_R', 'Pos30_A', 'Pos49_E', 'Pos85_V',\n",
       "       'Pos134_A', 'Pos147_-', 'Pos151_K', 'Pos198_T', 'Pos209_T',\n",
       "       'Pos255_V', 'Pos293_E', 'Pos297_T', 'Pos300_N', 'Pos305_K',\n",
       "       'Pos307_V', 'Pos319_A', 'Pos325_D', 'Pos330_H', 'Pos340_N',\n",
       "       'Pos347_E', 'Pos352_Y', 'Pos364_S', 'Pos369_L', 'Pos379_G',\n",
       "       'Pos389_G', 'Pos429_E', 'Pos446_K', 'Pos461_N', 'Pos500_R',\n",
       "       'Pos507_E', 'Pos518_V', 'Pos557_R', 'Pos619_Q', 'Pos620_T',\n",
       "       'Pos630_E', 'Pos633_K', 'Pos640_N', 'Pos640_D', 'Pos659_D',\n",
       "       'Pos665_K', 'Pos671_N', 'Pos674_D', 'Pos723_N', 'Pos777_I',\n",
       "       'Pos813_N', 'Pos815_L', 'N133', 'N137', 'N187', 'N289', 'N301',\n",
       "       'N332', 'N334', 'N354_1', 'N392', 'N397', 'N403', 'N410', 'N411',\n",
       "       'N461', 'N462'], dtype=object)"
      ]
     },
     "execution_count": 37,
     "metadata": {},
     "output_type": "execute_result"
    }
   ],
   "source": [
    "labels[enetcv_inds]"
   ]
  },
  {
   "cell_type": "code",
   "execution_count": 30,
   "metadata": {
    "collapsed": true
   },
   "outputs": [],
   "source": [
    "enet_intersection = set.intersection(set(labels[enetf_inds]), set(labels[enetcv_inds]))"
   ]
  },
  {
   "cell_type": "code",
   "execution_count": 35,
   "metadata": {},
   "outputs": [
    {
     "data": {
      "text/plain": [
       "array(['N137', 'N289', 'N301', 'N332', 'N392', 'N397', 'N403', 'N411',\n",
       "       'N462', 'N354_1', 'Pos4_M', 'Pos6_I', 'Pos30_A', 'Pos49_E',\n",
       "       'Pos134_A', 'Pos147_-', 'Pos151_K', 'Pos198_T', 'Pos209_T',\n",
       "       'Pos293_E', 'Pos297_T', 'Pos300_N', 'Pos305_K', 'Pos319_A',\n",
       "       'Pos325_D', 'Pos330_H', 'Pos340_N', 'Pos347_E', 'Pos364_S',\n",
       "       'Pos369_L', 'Pos379_G', 'Pos389_G', 'Pos429_E', 'Pos446_K',\n",
       "       'Pos461_N', 'Pos500_R', 'Pos507_E', 'Pos518_V', 'Pos619_Q',\n",
       "       'Pos620_T', 'Pos630_E', 'Pos633_K', 'Pos640_D', 'Pos640_N',\n",
       "       'Pos659_D', 'Pos665_K', 'Pos671_N', 'Pos674_D', 'Pos6_3_R',\n",
       "       'Pos723_N', 'Pos815_L'], \n",
       "      dtype='<U8')"
      ]
     },
     "execution_count": 35,
     "metadata": {},
     "output_type": "execute_result"
    }
   ],
   "source": [
    "np.array(sorted(sorted(list(enet_intersection)), key = len))\n"
   ]
  },
  {
   "cell_type": "code",
   "execution_count": 39,
   "metadata": {
    "collapsed": true
   },
   "outputs": [],
   "source": [
    "import pickle as pkl"
   ]
  },
  {
   "cell_type": "code",
   "execution_count": 41,
   "metadata": {
    "collapsed": true
   },
   "outputs": [],
   "source": [
    "with open(\"lasso_rf.pkl\", 'wb') as f:\n",
    "    pkl.dump(enetf_inds, f)"
   ]
  },
  {
   "cell_type": "code",
   "execution_count": null,
   "metadata": {
    "collapsed": true
   },
   "outputs": [],
   "source": []
  }
 ],
 "metadata": {
  "kernelspec": {
   "display_name": "Python 3",
   "language": "python",
   "name": "python3"
  },
  "language_info": {
   "codemirror_mode": {
    "name": "ipython",
    "version": 3
   },
   "file_extension": ".py",
   "mimetype": "text/x-python",
   "name": "python",
   "nbconvert_exporter": "python",
   "pygments_lexer": "ipython3",
   "version": "3.6.1"
  }
 },
 "nbformat": 4,
 "nbformat_minor": 2
}
